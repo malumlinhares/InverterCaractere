{
 "cells": [
  {
   "cell_type": "code",
   "execution_count": null,
   "metadata": {},
   "outputs": [],
   "source": [
    "palavra = input('Informe uma string para ser invertida: ')\n",
    "print (palavra)"
   ]
  },
  {
   "cell_type": "code",
   "execution_count": null,
   "metadata": {},
   "outputs": [],
   "source": [
    "def InverterString(entrada):\n",
    "    lista = []\n",
    "    listaInvertida = []\n",
    "    for i in entrada:\n",
    "        lista.append(i)\n",
    "    #percorrendo a lista de tras pra frente, (inicio, fim, intervalo)\n",
    "    for i in range(len(lista) - 1, -1, -1):\n",
    "        listaInvertida.append(lista[i])\n",
    "    palavraInvertida = ''.join(listaInvertida)\n",
    "    return palavraInvertida\n",
    "\n"
   ]
  },
  {
   "cell_type": "code",
   "execution_count": null,
   "metadata": {},
   "outputs": [],
   "source": [
    "InverterString(palavra)"
   ]
  }
 ],
 "metadata": {
  "kernelspec": {
   "display_name": "Python 3",
   "language": "python",
   "name": "python3"
  },
  "language_info": {
   "codemirror_mode": {
    "name": "ipython",
    "version": 3
   },
   "file_extension": ".py",
   "mimetype": "text/x-python",
   "name": "python",
   "nbconvert_exporter": "python",
   "pygments_lexer": "ipython3",
   "version": "3.10.12"
  }
 },
 "nbformat": 4,
 "nbformat_minor": 2
}
